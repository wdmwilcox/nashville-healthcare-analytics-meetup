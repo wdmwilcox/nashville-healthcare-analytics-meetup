{
 "cells": [
  {
   "cell_type": "code",
   "execution_count": 1,
   "metadata": {},
   "outputs": [],
   "source": [
    "# imports\n",
    "import pandas as pd\n",
    "import matplotlib.pyplot as plt"
   ]
  },
  {
   "cell_type": "code",
   "execution_count": 2,
   "metadata": {},
   "outputs": [
    {
     "data": {
      "text/plain": [
       "Index(['DRG Definition', 'Provider Id', 'Provider Name',\n",
       "       'Provider Street Address', 'Provider City', 'Provider State',\n",
       "       'Provider Zip Code', 'Hospital Referral Region (HRR) Description',\n",
       "       'Total Discharges', 'Average Covered Charges', 'Average Total Payments',\n",
       "       'Average Medicare Payments'],\n",
       "      dtype='object')"
      ]
     },
     "execution_count": 2,
     "metadata": {},
     "output_type": "execute_result"
    }
   ],
   "source": [
    "df = pd.read_csv('Medicare_Provider_Charge_Inpatient_DRGALL_FY2016.csv')\n",
    "df.columns"
   ]
  },
  {
   "cell_type": "code",
   "execution_count": 3,
   "metadata": {},
   "outputs": [
    {
     "data": {
      "text/plain": [
       "Index(['DRG Definition', 'Total Discharges', 'Average Total Payments'], dtype='object')"
      ]
     },
     "execution_count": 3,
     "metadata": {},
     "output_type": "execute_result"
    }
   ],
   "source": [
    "labels = ['Provider Id', 'Provider Name',\n",
    "       'Provider Street Address', 'Provider City', 'Provider State',\n",
    "       'Provider Zip Code', 'Hospital Referral Region (HRR) Description',\n",
    "       'Average Covered Charges','Average Medicare Payments',]\n",
    "df2 = df.drop(columns=labels)\n",
    "df2.columns"
   ]
  },
  {
   "cell_type": "code",
   "execution_count": 4,
   "metadata": {},
   "outputs": [
    {
     "data": {
      "text/plain": [
       "Index(['DRG Definition', 'Total Discharges', 'Average Total Payments',\n",
       "       'Total Payments'],\n",
       "      dtype='object')"
      ]
     },
     "execution_count": 4,
     "metadata": {},
     "output_type": "execute_result"
    }
   ],
   "source": [
    "df2['Total Payments'] = df2['Total Discharges'] * df2['Average Total Payments']\n",
    "df2.columns"
   ]
  },
  {
   "cell_type": "code",
   "execution_count": 5,
   "metadata": {},
   "outputs": [
    {
     "data": {
      "text/plain": [
       "Index(['DRG Definition', 'Total Payments'], dtype='object')"
      ]
     },
     "execution_count": 5,
     "metadata": {},
     "output_type": "execute_result"
    }
   ],
   "source": [
    "new_labels = ['Total Discharges', 'Average Total Payments',]\n",
    "df3 = df2.drop(columns=new_labels)\n",
    "df3.columns"
   ]
  },
  {
   "cell_type": "code",
   "execution_count": 6,
   "metadata": {},
   "outputs": [
    {
     "data": {
      "text/html": [
       "<div>\n",
       "<style scoped>\n",
       "    .dataframe tbody tr th:only-of-type {\n",
       "        vertical-align: middle;\n",
       "    }\n",
       "\n",
       "    .dataframe tbody tr th {\n",
       "        vertical-align: top;\n",
       "    }\n",
       "\n",
       "    .dataframe thead th {\n",
       "        text-align: right;\n",
       "    }\n",
       "</style>\n",
       "<table border=\"1\" class=\"dataframe\">\n",
       "  <thead>\n",
       "    <tr style=\"text-align: right;\">\n",
       "      <th></th>\n",
       "      <th>Total Payments</th>\n",
       "    </tr>\n",
       "    <tr>\n",
       "      <th>DRG Definition</th>\n",
       "      <th></th>\n",
       "    </tr>\n",
       "  </thead>\n",
       "  <tbody>\n",
       "    <tr>\n",
       "      <th>001 - HEART TRANSPLANT OR IMPLANT OF HEART ASSIST SYSTEM W MCC</th>\n",
       "      <td>4.814397e+08</td>\n",
       "    </tr>\n",
       "    <tr>\n",
       "      <th>002 - HEART TRANSPLANT OR IMPLANT OF HEART ASSIST SYSTEM W/O MCC</th>\n",
       "      <td>4.702237e+06</td>\n",
       "    </tr>\n",
       "    <tr>\n",
       "      <th>003 - ECMO OR TRACH W MV &gt;96 HRS OR PDX EXC FACE, MOUTH &amp; NECK W MAJ O.R.</th>\n",
       "      <td>1.930364e+09</td>\n",
       "    </tr>\n",
       "    <tr>\n",
       "      <th>004 - TRACH W MV &gt;96 HRS OR PDX EXC FACE, MOUTH &amp; NECK W/O MAJ O.R.</th>\n",
       "      <td>6.652462e+08</td>\n",
       "    </tr>\n",
       "    <tr>\n",
       "      <th>005 - LIVER TRANSPLANT W MCC OR INTESTINAL TRANSPLANT</th>\n",
       "      <td>1.160407e+08</td>\n",
       "    </tr>\n",
       "  </tbody>\n",
       "</table>\n",
       "</div>"
      ],
      "text/plain": [
       "                                                    Total Payments\n",
       "DRG Definition                                                    \n",
       "001 - HEART TRANSPLANT OR IMPLANT OF HEART ASSI...    4.814397e+08\n",
       "002 - HEART TRANSPLANT OR IMPLANT OF HEART ASSI...    4.702237e+06\n",
       "003 - ECMO OR TRACH W MV >96 HRS OR PDX EXC FAC...    1.930364e+09\n",
       "004 - TRACH W MV >96 HRS OR PDX EXC FACE, MOUTH...    6.652462e+08\n",
       "005 - LIVER TRANSPLANT W MCC OR INTESTINAL TRAN...    1.160407e+08"
      ]
     },
     "execution_count": 6,
     "metadata": {},
     "output_type": "execute_result"
    }
   ],
   "source": [
    "df4 = df3.groupby('DRG Definition').sum()\n",
    "df4.sort_values(by='Total Payments', ascending=False)\n",
    "df4.head()"
   ]
  },
  {
   "cell_type": "code",
   "execution_count": 7,
   "metadata": {},
   "outputs": [
    {
     "data": {
      "text/plain": [
       "(101, 1)"
      ]
     },
     "execution_count": 7,
     "metadata": {},
     "output_type": "execute_result"
    }
   ],
   "source": [
    "df5 = df4[:101]\n",
    "df5.shape"
   ]
  },
  {
   "cell_type": "code",
   "execution_count": 8,
   "metadata": {},
   "outputs": [
    {
     "data": {
      "image/png": "[encoded data removed]",
      "text/plain": [
       "<Figure size 432x288 with 1 Axes>"
      ]
     },
     "metadata": {
      "needs_background": "light"
     },
     "output_type": "display_data"
    }
   ],
   "source": [
    "plt.hist(df5['Total Payments'], bins=40, )\n",
    "plt.show()"
   ]
  },
  {
   "cell_type": "code",
   "execution_count": 9,
   "metadata": {},
   "outputs": [
    {
     "data": {
      "image/png": "[encoded data removed]",
      "text/plain": [
       "<Figure size 432x288 with 1 Axes>"
      ]
     },
     "metadata": {
      "needs_background": "light"
     },
     "output_type": "display_data"
    }
   ],
   "source": [
    "plt.hist(df5['Total Payments'], bins=15, range=(0,2000000))\n",
    "plt.show()"
   ]
  },
  {
   "cell_type": "code",
   "execution_count": null,
   "metadata": {},
   "outputs": [],
   "source": []
  }
 ],
 "metadata": {
  "kernelspec": {
   "display_name": "Python 3",
   "language": "python",
   "name": "python3"
  },
  "language_info": {
   "codemirror_mode": {
    "name": "ipython",
    "version": 3
   },
   "file_extension": ".py",
   "mimetype": "text/x-python",
   "name": "python",
   "nbconvert_exporter": "python",
   "pygments_lexer": "ipython3",
   "version": "3.7.0"
  }
 },
 "nbformat": 4,
 "nbformat_minor": 2
}
